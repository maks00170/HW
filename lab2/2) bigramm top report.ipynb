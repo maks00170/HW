{
 "cells": [
  {
   "cell_type": "code",
   "execution_count": 1,
   "id": "94b89122",
   "metadata": {},
   "outputs": [],
   "source": [
    "import pandas as pd\n",
    "import matplotlib.pyplot as plt\n",
    "import numpy as np\n",
    "import seaborn as sns"
   ]
  },
  {
   "cell_type": "markdown",
   "id": "edc0aff8",
   "metadata": {},
   "source": [
    "# DATA LOAD"
   ]
  },
  {
   "cell_type": "code",
   "execution_count": 2,
   "id": "88fbcb88",
   "metadata": {},
   "outputs": [],
   "source": [
    "report = pd.read_excel('data.xlsx', sheet_name = 'Report', skiprows=1)"
   ]
  },
  {
   "cell_type": "code",
   "execution_count": 3,
   "id": "be2f80d1",
   "metadata": {},
   "outputs": [],
   "source": [
    "to_drop = ['Социальная сеть', 'Владелец']\n",
    "report.drop(columns = to_drop, inplace = True)"
   ]
  },
  {
   "cell_type": "code",
   "execution_count": 4,
   "id": "0eb5d316",
   "metadata": {},
   "outputs": [
    {
     "data": {
      "text/html": [
       "<div>\n",
       "<style scoped>\n",
       "    .dataframe tbody tr th:only-of-type {\n",
       "        vertical-align: middle;\n",
       "    }\n",
       "\n",
       "    .dataframe tbody tr th {\n",
       "        vertical-align: top;\n",
       "    }\n",
       "\n",
       "    .dataframe thead th {\n",
       "        text-align: right;\n",
       "    }\n",
       "</style>\n",
       "<table border=\"1\" class=\"dataframe\">\n",
       "  <thead>\n",
       "    <tr style=\"text-align: right;\">\n",
       "      <th></th>\n",
       "      <th>ID поста</th>\n",
       "      <th>Текст</th>\n",
       "      <th>Эмоциональный окрас</th>\n",
       "      <th>Дата</th>\n",
       "      <th>Комментариев</th>\n",
       "      <th>Лайков</th>\n",
       "      <th>Репостов</th>\n",
       "      <th>Просмотров</th>\n",
       "      <th>Негативных комментариев</th>\n",
       "      <th>Позитивных комментариев</th>\n",
       "      <th>Нейтральных комментариев</th>\n",
       "      <th>Неопределенных комментариев</th>\n",
       "      <th>Вежливых комментариев</th>\n",
       "      <th>Юмористических комментариев</th>\n",
       "    </tr>\n",
       "  </thead>\n",
       "  <tbody>\n",
       "    <tr>\n",
       "      <th>0</th>\n",
       "      <td>-159668210_25795</td>\n",
       "      <td>Нам задают много вопросов о технологическом ко...</td>\n",
       "      <td>Нейтральность</td>\n",
       "      <td>2021-12-31 07:45:00</td>\n",
       "      <td>0</td>\n",
       "      <td>0</td>\n",
       "      <td>0</td>\n",
       "      <td>3548.0</td>\n",
       "      <td>0</td>\n",
       "      <td>0</td>\n",
       "      <td>0</td>\n",
       "      <td>0</td>\n",
       "      <td>0</td>\n",
       "      <td>0</td>\n",
       "    </tr>\n",
       "    <tr>\n",
       "      <th>1</th>\n",
       "      <td>-74188185_20318</td>\n",
       "      <td>В высадке на Марс бизнесмен видит возможность ...</td>\n",
       "      <td>Нейтральность</td>\n",
       "      <td>2021-12-31 07:41:31</td>\n",
       "      <td>0</td>\n",
       "      <td>2</td>\n",
       "      <td>0</td>\n",
       "      <td>346.0</td>\n",
       "      <td>0</td>\n",
       "      <td>0</td>\n",
       "      <td>0</td>\n",
       "      <td>0</td>\n",
       "      <td>0</td>\n",
       "      <td>0</td>\n",
       "    </tr>\n",
       "    <tr>\n",
       "      <th>2</th>\n",
       "      <td>-74188185_20317</td>\n",
       "      <td>Гораздо чаще остальных американские компании и...</td>\n",
       "      <td>Нейтральность</td>\n",
       "      <td>2021-12-31 07:40:42</td>\n",
       "      <td>0</td>\n",
       "      <td>0</td>\n",
       "      <td>0</td>\n",
       "      <td>319.0</td>\n",
       "      <td>0</td>\n",
       "      <td>0</td>\n",
       "      <td>0</td>\n",
       "      <td>0</td>\n",
       "      <td>0</td>\n",
       "      <td>0</td>\n",
       "    </tr>\n",
       "    <tr>\n",
       "      <th>3</th>\n",
       "      <td>-21732035_11926</td>\n",
       "      <td>Twitter-аккаунт, который ранее связывали с защ...</td>\n",
       "      <td>Негатив</td>\n",
       "      <td>2021-12-31 07:23:16</td>\n",
       "      <td>0</td>\n",
       "      <td>2</td>\n",
       "      <td>0</td>\n",
       "      <td>222.0</td>\n",
       "      <td>0</td>\n",
       "      <td>0</td>\n",
       "      <td>0</td>\n",
       "      <td>0</td>\n",
       "      <td>0</td>\n",
       "      <td>0</td>\n",
       "    </tr>\n",
       "    <tr>\n",
       "      <th>4</th>\n",
       "      <td>-718901_3742</td>\n",
       "      <td>Дорогие коллеги и друзья! \\n⠀ \\nСпасибо за ваш...</td>\n",
       "      <td>Позитив</td>\n",
       "      <td>2021-12-31 07:13:35</td>\n",
       "      <td>0</td>\n",
       "      <td>37</td>\n",
       "      <td>2</td>\n",
       "      <td>3956.0</td>\n",
       "      <td>0</td>\n",
       "      <td>0</td>\n",
       "      <td>0</td>\n",
       "      <td>0</td>\n",
       "      <td>0</td>\n",
       "      <td>0</td>\n",
       "    </tr>\n",
       "  </tbody>\n",
       "</table>\n",
       "</div>"
      ],
      "text/plain": [
       "           ID поста                                              Текст  \\\n",
       "0  -159668210_25795  Нам задают много вопросов о технологическом ко...   \n",
       "1   -74188185_20318  В высадке на Марс бизнесмен видит возможность ...   \n",
       "2   -74188185_20317  Гораздо чаще остальных американские компании и...   \n",
       "3   -21732035_11926  Twitter-аккаунт, который ранее связывали с защ...   \n",
       "4      -718901_3742  Дорогие коллеги и друзья! \\n⠀ \\nСпасибо за ваш...   \n",
       "\n",
       "  Эмоциональный окрас                 Дата  Комментариев  Лайков  Репостов  \\\n",
       "0       Нейтральность  2021-12-31 07:45:00             0       0         0   \n",
       "1       Нейтральность  2021-12-31 07:41:31             0       2         0   \n",
       "2       Нейтральность  2021-12-31 07:40:42             0       0         0   \n",
       "3             Негатив  2021-12-31 07:23:16             0       2         0   \n",
       "4             Позитив  2021-12-31 07:13:35             0      37         2   \n",
       "\n",
       "   Просмотров  Негативных комментариев  Позитивных комментариев  \\\n",
       "0      3548.0                        0                        0   \n",
       "1       346.0                        0                        0   \n",
       "2       319.0                        0                        0   \n",
       "3       222.0                        0                        0   \n",
       "4      3956.0                        0                        0   \n",
       "\n",
       "   Нейтральных комментариев  Неопределенных комментариев  \\\n",
       "0                         0                            0   \n",
       "1                         0                            0   \n",
       "2                         0                            0   \n",
       "3                         0                            0   \n",
       "4                         0                            0   \n",
       "\n",
       "   Вежливых комментариев  Юмористических комментариев  \n",
       "0                      0                            0  \n",
       "1                      0                            0  \n",
       "2                      0                            0  \n",
       "3                      0                            0  \n",
       "4                      0                            0  "
      ]
     },
     "execution_count": 4,
     "metadata": {},
     "output_type": "execute_result"
    }
   ],
   "source": [
    "report.head()"
   ]
  },
  {
   "cell_type": "code",
   "execution_count": 5,
   "id": "7e8b7cb5",
   "metadata": {},
   "outputs": [
    {
     "data": {
      "text/plain": [
       "(13630, 14)"
      ]
     },
     "execution_count": 5,
     "metadata": {},
     "output_type": "execute_result"
    }
   ],
   "source": [
    "report.shape"
   ]
  },
  {
   "cell_type": "code",
   "execution_count": 6,
   "id": "319c18a2",
   "metadata": {},
   "outputs": [],
   "source": [
    "import re\n",
    "from nltk.corpus import stopwords\n",
    "from nltk.tokenize import sent_tokenize, word_tokenize\n",
    "from tqdm import tqdm\n",
    "import numpy as np\n",
    "import pymorphy2\n",
    "import nltk\n",
    "morph = pymorphy2.MorphAnalyzer()\n",
    "stopwords_ru = stopwords.words(\"russian\")"
   ]
  },
  {
   "cell_type": "code",
   "execution_count": 7,
   "id": "eeef8bcc",
   "metadata": {},
   "outputs": [],
   "source": [
    "data = report.Текст.values.tolist()"
   ]
  },
  {
   "cell_type": "markdown",
   "id": "ea4104f7",
   "metadata": {},
   "source": [
    "# 1 этап"
   ]
  },
  {
   "cell_type": "code",
   "execution_count": 14,
   "id": "ab4b0317",
   "metadata": {},
   "outputs": [],
   "source": [
    "data = report.Текст.values.tolist()"
   ]
  },
  {
   "cell_type": "markdown",
   "id": "6d83d91f",
   "metadata": {},
   "source": [
    "# 2 этап"
   ]
  },
  {
   "cell_type": "code",
   "execution_count": 15,
   "id": "ae5dc41c",
   "metadata": {},
   "outputs": [],
   "source": [
    "data = [re.sub('\\s+', ' ', sent) for sent in data] # убираем new line characters"
   ]
  },
  {
   "cell_type": "code",
   "execution_count": 16,
   "id": "e8e93ab4",
   "metadata": {},
   "outputs": [],
   "source": [
    "data = [re.sub(\"\\d+\", ' ', sent) for sent in data] # убираем всё цифры"
   ]
  },
  {
   "cell_type": "code",
   "execution_count": 17,
   "id": "0567c89e",
   "metadata": {},
   "outputs": [],
   "source": [
    "data = [re.sub(\"http[s]?://(?:[a-zA-Z]|[0-9]|[$-_@.&+]|[!*\\(\\),]|(?:%[0-9a-fA-F][0-9a-fA-F]))+\", ' ', sent) for sent in data] # убираем url"
   ]
  },
  {
   "cell_type": "markdown",
   "id": "a49e24ce",
   "metadata": {},
   "source": [
    "# Левая ветка"
   ]
  },
  {
   "cell_type": "markdown",
   "id": "bcdaf100",
   "metadata": {},
   "source": [
    "# 3 этап левая ветка"
   ]
  },
  {
   "cell_type": "code",
   "execution_count": 18,
   "id": "c76334a5",
   "metadata": {},
   "outputs": [],
   "source": [
    "data_left = [re.sub(r'[^\\w\\s]','', sent) for sent in data] # убираем знаки препинания."
   ]
  },
  {
   "cell_type": "markdown",
   "id": "be7463f2",
   "metadata": {},
   "source": [
    "## 4.1 этап левая ветка (нормализация)"
   ]
  },
  {
   "cell_type": "code",
   "execution_count": 19,
   "id": "30e78f15",
   "metadata": {},
   "outputs": [
    {
     "name": "stderr",
     "output_type": "stream",
     "text": [
      "100%|████████████████████████████████████████████████████████████████████████████| 13630/13630 [02:50<00:00, 79.97it/s]\n"
     ]
    }
   ],
   "source": [
    "data_left_norm = []  # с нормализацией\n",
    "for i in tqdm(range(len(data_left))):\n",
    "    data_left_norm.append(list(morph.parse(token)[0].normal_form for token in word_tokenize(data_left[i].lower().strip(), language=\"russian\")))"
   ]
  },
  {
   "cell_type": "markdown",
   "id": "c5b4faa0",
   "metadata": {},
   "source": [
    "## 4.2 этап левая ветка"
   ]
  },
  {
   "cell_type": "code",
   "execution_count": 20,
   "id": "87ff54ca",
   "metadata": {},
   "outputs": [
    {
     "name": "stderr",
     "output_type": "stream",
     "text": [
      "100%|██████████████████████████████████████████████████████████████████████████| 13630/13630 [00:03<00:00, 3474.75it/s]\n"
     ]
    }
   ],
   "source": [
    "data_left_d= []        # без нормализации\n",
    "for i in tqdm(range(len(data_left))):\n",
    "    data_left_d.append(word_tokenize(data_left[i].lower().strip(), language=\"russian\"))"
   ]
  },
  {
   "cell_type": "markdown",
   "id": "0b14fdb7",
   "metadata": {},
   "source": [
    "## 5.1 этап левая ветка (нормализация)"
   ]
  },
  {
   "cell_type": "code",
   "execution_count": 21,
   "id": "8f1a8e45",
   "metadata": {},
   "outputs": [
    {
     "name": "stderr",
     "output_type": "stream",
     "text": [
      "100%|█████████████████████████████████████████████████████████████████████████| 13630/13630 [00:01<00:00, 10892.84it/s]\n"
     ]
    }
   ],
   "source": [
    "bi_gram_norm = []\n",
    "for sentence in tqdm(data_left_norm): # по постам\n",
    "    data_left_norm_stop = []\n",
    "    for word in sentence:                # по словам\n",
    "        if word in stopwords_ru:\n",
    "            continue\n",
    "        else:\n",
    "            data_left_norm_stop.append(word)\n",
    "    bi_gram_norm += list(nltk.bigrams(data_left_norm_stop))"
   ]
  },
  {
   "cell_type": "markdown",
   "id": "398a0e4b",
   "metadata": {},
   "source": [
    "## 5.2 этап левая ветка"
   ]
  },
  {
   "cell_type": "code",
   "execution_count": 22,
   "id": "b4a4f0d3",
   "metadata": {},
   "outputs": [
    {
     "name": "stderr",
     "output_type": "stream",
     "text": [
      "100%|██████████████████████████████████████████████████████████████████████████| 13630/13630 [00:01<00:00, 9808.69it/s]\n"
     ]
    }
   ],
   "source": [
    "bi_gram = []\n",
    "for sentence in tqdm(data_left_d): # по постам\n",
    "    data_left_d_stop = []\n",
    "    for word in sentence:                # по словам\n",
    "        if word in stopwords_ru:\n",
    "            continue\n",
    "        else:\n",
    "            data_left_d_stop.append(word)\n",
    "    bi_gram += list(nltk.bigrams(data_left_d_stop))"
   ]
  },
  {
   "cell_type": "markdown",
   "id": "5afa5f06",
   "metadata": {},
   "source": [
    "## 6.1 этап левая ветка (нормализация)"
   ]
  },
  {
   "cell_type": "code",
   "execution_count": 23,
   "id": "80fcc719",
   "metadata": {},
   "outputs": [
    {
     "data": {
      "text/plain": [
       "[(('принять', 'участие'), 361),\n",
       " (('искусственный', 'интеллект'), 328),\n",
       " (('это', 'год'), 315),\n",
       " (('технополис', 'москва'), 309),\n",
       " (('база', 'данные'), 285),\n",
       " (('информационный', 'безопасность'), 261),\n",
       " (('оэз', 'технополис'), 258),\n",
       " (('язык', 'программирование'), 243),\n",
       " (('подать', 'заявка'), 228),\n",
       " (('машинный', 'обучение'), 218)]"
      ]
     },
     "execution_count": 23,
     "metadata": {},
     "output_type": "execute_result"
    }
   ],
   "source": [
    "bgfd = nltk.FreqDist(bi_gram_norm) # нормализованы\n",
    "bgfd.most_common(10)"
   ]
  },
  {
   "cell_type": "markdown",
   "id": "6c6439e9",
   "metadata": {},
   "source": [
    "## 6.2 этап левая ветка"
   ]
  },
  {
   "cell_type": "code",
   "execution_count": 24,
   "id": "a3f52179",
   "metadata": {},
   "outputs": [
    {
     "data": {
      "text/plain": [
       "[(('технополис', 'москва'), 306),\n",
       " (('оэз', 'технополис'), 258),\n",
       " (('принять', 'участие'), 221),\n",
       " (('информационной', 'безопасности'), 214),\n",
       " (('data', 'science'), 202),\n",
       " (('многое', 'другое'), 198),\n",
       " (('blockchain', 'life'), 196),\n",
       " (('подать', 'заявку'), 167),\n",
       " (('нашем', 'сайте'), 161),\n",
       " (('призовой', 'фонд'), 159)]"
      ]
     },
     "execution_count": 24,
     "metadata": {},
     "output_type": "execute_result"
    }
   ],
   "source": [
    "bgfd1 = nltk.FreqDist(bi_gram) # не нормализованы\n",
    "bgfd1.most_common(10)"
   ]
  },
  {
   "cell_type": "markdown",
   "id": "27c2da3a",
   "metadata": {},
   "source": [
    "# Правая ветка"
   ]
  },
  {
   "cell_type": "markdown",
   "id": "b52b86d4",
   "metadata": {},
   "source": [
    "# 3 этап правая ветка"
   ]
  },
  {
   "cell_type": "code",
   "execution_count": 25,
   "id": "3a88be52",
   "metadata": {},
   "outputs": [],
   "source": [
    "data_right = ' '.join(data)\n",
    "data_right = sent_tokenize(data_right, language=\"russian\")  # по предложениям"
   ]
  },
  {
   "cell_type": "code",
   "execution_count": 26,
   "id": "646aacfb",
   "metadata": {},
   "outputs": [],
   "source": [
    "data_right = [re.sub(r'[^\\w\\s]','', sent) for sent in data_right] # убираем знаки препинания."
   ]
  },
  {
   "cell_type": "markdown",
   "id": "ab6cb15d",
   "metadata": {},
   "source": [
    "## 4.1 этап правая ветка (нормализация)"
   ]
  },
  {
   "cell_type": "code",
   "execution_count": 27,
   "id": "bbc095d2",
   "metadata": {},
   "outputs": [
    {
     "name": "stderr",
     "output_type": "stream",
     "text": [
      "100%|███████████████████████████████████████████████████████████████████████████| 63262/63262 [02:57<00:00, 356.15it/s]\n"
     ]
    }
   ],
   "source": [
    "data_right_norm = []  # с нормализацией\n",
    "for i in tqdm(range(len(data_right))):\n",
    "    data_right_norm.append(list(morph.parse(token)[0].normal_form for token in word_tokenize(data_right[i].lower().strip(), language=\"russian\")))"
   ]
  },
  {
   "cell_type": "markdown",
   "id": "2612e93b",
   "metadata": {},
   "source": [
    "## 4.2 этап правая ветка"
   ]
  },
  {
   "cell_type": "code",
   "execution_count": 28,
   "id": "9547709b",
   "metadata": {},
   "outputs": [
    {
     "name": "stderr",
     "output_type": "stream",
     "text": [
      "100%|██████████████████████████████████████████████████████████████████████████| 63262/63262 [00:06<00:00, 9650.49it/s]\n"
     ]
    }
   ],
   "source": [
    "data_right_d = []        # без нормализации\n",
    "for i in tqdm(range(len(data_right))):\n",
    "    data_right_d.append(word_tokenize(data_right[i].lower().strip(), language=\"russian\"))"
   ]
  },
  {
   "cell_type": "markdown",
   "id": "f8dbbf15",
   "metadata": {},
   "source": [
    "## 5.1 этап правая ветка (нормализация)"
   ]
  },
  {
   "cell_type": "code",
   "execution_count": 29,
   "id": "3988b640",
   "metadata": {},
   "outputs": [
    {
     "name": "stderr",
     "output_type": "stream",
     "text": [
      "100%|█████████████████████████████████████████████████████████████████████████| 63262/63262 [00:01<00:00, 47780.95it/s]\n"
     ]
    }
   ],
   "source": [
    "bi_gram_norm = []\n",
    "for sentence in tqdm(data_right_norm): # по предложениям\n",
    "    data_right_norm_stop = []\n",
    "    for word in sentence:                # по словам\n",
    "        if word in stopwords_ru:\n",
    "            continue\n",
    "        else:\n",
    "            data_right_norm_stop.append(word)\n",
    "    bi_gram_norm += list(nltk.bigrams(data_right_norm_stop))"
   ]
  },
  {
   "cell_type": "markdown",
   "id": "abf62277",
   "metadata": {},
   "source": [
    "## 5.2 этап правая ветка"
   ]
  },
  {
   "cell_type": "code",
   "execution_count": 30,
   "id": "ec110f51",
   "metadata": {},
   "outputs": [
    {
     "name": "stderr",
     "output_type": "stream",
     "text": [
      "100%|█████████████████████████████████████████████████████████████████████████| 63262/63262 [00:01<00:00, 46700.93it/s]\n"
     ]
    }
   ],
   "source": [
    "bi_gram_d = []\n",
    "for sentence in tqdm(data_right_d): # по предложениям\n",
    "    data_right_norm_stop = []\n",
    "    for word in sentence:                # по словам\n",
    "        if word in stopwords_ru:\n",
    "            continue\n",
    "        else:\n",
    "            data_right_norm_stop.append(word)\n",
    "    bi_gram_d += list(nltk.bigrams(data_right_norm_stop))"
   ]
  },
  {
   "cell_type": "markdown",
   "id": "042e2e50",
   "metadata": {},
   "source": [
    "## 6.1 этап правая ветка (нормализация)"
   ]
  },
  {
   "cell_type": "code",
   "execution_count": 31,
   "id": "edd6ebc3",
   "metadata": {},
   "outputs": [
    {
     "data": {
      "text/plain": [
       "[(('принять', 'участие'), 361),\n",
       " (('искусственный', 'интеллект'), 328),\n",
       " (('это', 'год'), 314),\n",
       " (('технополис', 'москва'), 309),\n",
       " (('база', 'данные'), 285),\n",
       " (('информационный', 'безопасность'), 261),\n",
       " (('оэз', 'технополис'), 258),\n",
       " (('язык', 'программирование'), 243),\n",
       " (('подать', 'заявка'), 228),\n",
       " (('машинный', 'обучение'), 218)]"
      ]
     },
     "execution_count": 31,
     "metadata": {},
     "output_type": "execute_result"
    }
   ],
   "source": [
    "bgfd = nltk.FreqDist(bi_gram_norm) # нормализованы\n",
    "bgfd.most_common(10)"
   ]
  },
  {
   "cell_type": "markdown",
   "id": "7ae8a2fe",
   "metadata": {},
   "source": [
    "# 6.2 этап правая ветка"
   ]
  },
  {
   "cell_type": "code",
   "execution_count": 33,
   "id": "9447ac7a",
   "metadata": {},
   "outputs": [
    {
     "data": {
      "text/plain": [
       "[(('технополис', 'москва'), 306),\n",
       " (('оэз', 'технополис'), 258),\n",
       " (('принять', 'участие'), 221),\n",
       " (('информационной', 'безопасности'), 214),\n",
       " (('data', 'science'), 202),\n",
       " (('многое', 'другое'), 198),\n",
       " (('blockchain', 'life'), 196),\n",
       " (('подать', 'заявку'), 167),\n",
       " (('нашем', 'сайте'), 161),\n",
       " (('призовой', 'фонд'), 159)]"
      ]
     },
     "execution_count": 33,
     "metadata": {},
     "output_type": "execute_result"
    }
   ],
   "source": [
    "bgfd = nltk.FreqDist(bi_gram_d) # не нормализованы\n",
    "bgfd.most_common(10)"
   ]
  },
  {
   "cell_type": "code",
   "execution_count": null,
   "id": "16c80a3d",
   "metadata": {},
   "outputs": [],
   "source": []
  }
 ],
 "metadata": {
  "kernelspec": {
   "display_name": "Python 3 (ipykernel)",
   "language": "python",
   "name": "python3"
  },
  "language_info": {
   "codemirror_mode": {
    "name": "ipython",
    "version": 3
   },
   "file_extension": ".py",
   "mimetype": "text/x-python",
   "name": "python",
   "nbconvert_exporter": "python",
   "pygments_lexer": "ipython3",
   "version": "3.10.6"
  }
 },
 "nbformat": 4,
 "nbformat_minor": 5
}
