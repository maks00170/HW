{
 "cells": [
  {
   "cell_type": "code",
   "execution_count": 1,
   "id": "7a3ce66c",
   "metadata": {},
   "outputs": [],
   "source": [
    "import pandas as pd\n",
    "import matplotlib.pyplot as plt\n",
    "import numpy as np\n",
    "import seaborn as sns"
   ]
  },
  {
   "cell_type": "markdown",
   "id": "e6a14c57",
   "metadata": {},
   "source": [
    "# 1127 -Tinkoff"
   ]
  },
  {
   "cell_type": "markdown",
   "id": "d61c7711",
   "metadata": {},
   "source": [
    "# 1673 - Тинькофф"
   ]
  },
  {
   "cell_type": "markdown",
   "id": "ae9ba58f",
   "metadata": {},
   "source": [
    "# DATA LOAD"
   ]
  },
  {
   "cell_type": "code",
   "execution_count": 2,
   "id": "d3f35a15",
   "metadata": {},
   "outputs": [
    {
     "data": {
      "text/html": [
       "<div>\n",
       "<style scoped>\n",
       "    .dataframe tbody tr th:only-of-type {\n",
       "        vertical-align: middle;\n",
       "    }\n",
       "\n",
       "    .dataframe tbody tr th {\n",
       "        vertical-align: top;\n",
       "    }\n",
       "\n",
       "    .dataframe thead th {\n",
       "        text-align: right;\n",
       "    }\n",
       "</style>\n",
       "<table border=\"1\" class=\"dataframe\">\n",
       "  <thead>\n",
       "    <tr style=\"text-align: right;\">\n",
       "      <th></th>\n",
       "      <th>Социальная сеть</th>\n",
       "      <th>ID поста</th>\n",
       "      <th>ID комментария</th>\n",
       "      <th>Владелец</th>\n",
       "      <th>ID Владелеца</th>\n",
       "      <th>Текст</th>\n",
       "      <th>Эмоциональный окрас</th>\n",
       "      <th>Дата</th>\n",
       "      <th>Лайков</th>\n",
       "    </tr>\n",
       "  </thead>\n",
       "  <tbody>\n",
       "    <tr>\n",
       "      <th>0</th>\n",
       "      <td>Вконтакте</td>\n",
       "      <td>-115807015_2334</td>\n",
       "      <td>5412482_2336</td>\n",
       "      <td>Валентин Точилкин</td>\n",
       "      <td>5412482</td>\n",
       "      <td>Задумка понравилась! Думаю будет смотреться лу...</td>\n",
       "      <td>Нейтральность</td>\n",
       "      <td>2021-12-31 08:19:05</td>\n",
       "      <td>1</td>\n",
       "    </tr>\n",
       "    <tr>\n",
       "      <th>1</th>\n",
       "      <td>Вконтакте</td>\n",
       "      <td>-30666517_1774956</td>\n",
       "      <td>308730199_1774960</td>\n",
       "      <td>Денис Гончаров</td>\n",
       "      <td>308730199</td>\n",
       "      <td>Вам тоже здоровья и удачи в прошлом и крепкого...</td>\n",
       "      <td>Вежливость</td>\n",
       "      <td>2021-12-31 07:09:40</td>\n",
       "      <td>9</td>\n",
       "    </tr>\n",
       "    <tr>\n",
       "      <th>2</th>\n",
       "      <td>Вконтакте</td>\n",
       "      <td>-30666517_1774956</td>\n",
       "      <td>10784303_1774979</td>\n",
       "      <td>Олег Кирин</td>\n",
       "      <td>10784303</td>\n",
       "      <td>Полагаю: Вера и Надежда – это тимлид и прожект...</td>\n",
       "      <td>Юмор</td>\n",
       "      <td>2021-12-31 09:20:39</td>\n",
       "      <td>4</td>\n",
       "    </tr>\n",
       "    <tr>\n",
       "      <th>3</th>\n",
       "      <td>Вконтакте</td>\n",
       "      <td>-30666517_1774956</td>\n",
       "      <td>586953361_1775092</td>\n",
       "      <td>Замбек Замбеков</td>\n",
       "      <td>586953361</td>\n",
       "      <td>этот интеллект на али давно существует</td>\n",
       "      <td>Нейтральность</td>\n",
       "      <td>2021-12-31 20:38:00</td>\n",
       "      <td>1</td>\n",
       "    </tr>\n",
       "    <tr>\n",
       "      <th>4</th>\n",
       "      <td>Вконтакте</td>\n",
       "      <td>-30666517_1774956</td>\n",
       "      <td>19496621_1775350</td>\n",
       "      <td>Александр Бирабиджанов</td>\n",
       "      <td>19496621</td>\n",
       "      <td>Будет вечный Свет.</td>\n",
       "      <td>Нейтральность</td>\n",
       "      <td>2022-01-03 00:04:52</td>\n",
       "      <td>1</td>\n",
       "    </tr>\n",
       "  </tbody>\n",
       "</table>\n",
       "</div>"
      ],
      "text/plain": [
       "  Социальная сеть           ID поста     ID комментария  \\\n",
       "0       Вконтакте    -115807015_2334       5412482_2336   \n",
       "1       Вконтакте  -30666517_1774956  308730199_1774960   \n",
       "2       Вконтакте  -30666517_1774956   10784303_1774979   \n",
       "3       Вконтакте  -30666517_1774956  586953361_1775092   \n",
       "4       Вконтакте  -30666517_1774956   19496621_1775350   \n",
       "\n",
       "                 Владелец  ID Владелеца  \\\n",
       "0       Валентин Точилкин       5412482   \n",
       "1          Денис Гончаров     308730199   \n",
       "2              Олег Кирин      10784303   \n",
       "3         Замбек Замбеков     586953361   \n",
       "4  Александр Бирабиджанов      19496621   \n",
       "\n",
       "                                               Текст Эмоциональный окрас  \\\n",
       "0  Задумка понравилась! Думаю будет смотреться лу...       Нейтральность   \n",
       "1  Вам тоже здоровья и удачи в прошлом и крепкого...          Вежливость   \n",
       "2  Полагаю: Вера и Надежда – это тимлид и прожект...                Юмор   \n",
       "3             этот интеллект на али давно существует       Нейтральность   \n",
       "4                                 Будет вечный Свет.       Нейтральность   \n",
       "\n",
       "                  Дата  Лайков  \n",
       "0  2021-12-31 08:19:05       1  \n",
       "1  2021-12-31 07:09:40       9  \n",
       "2  2021-12-31 09:20:39       4  \n",
       "3  2021-12-31 20:38:00       1  \n",
       "4  2022-01-03 00:04:52       1  "
      ]
     },
     "execution_count": 2,
     "metadata": {},
     "output_type": "execute_result"
    }
   ],
   "source": [
    "comment = pd.read_excel('data.xlsx', sheet_name = 'Comments', skiprows=1)\n",
    "comment.head()"
   ]
  },
  {
   "cell_type": "code",
   "execution_count": 3,
   "id": "12e6d80f",
   "metadata": {},
   "outputs": [],
   "source": [
    "comment = comment.fillna('Пропуск')"
   ]
  },
  {
   "cell_type": "markdown",
   "id": "2e3af232",
   "metadata": {},
   "source": [
    "# bigramm"
   ]
  },
  {
   "cell_type": "code",
   "execution_count": 4,
   "id": "021e0618",
   "metadata": {},
   "outputs": [],
   "source": [
    "import re\n",
    "from nltk.corpus import stopwords\n",
    "from nltk.tokenize import sent_tokenize, word_tokenize\n",
    "from tqdm import tqdm\n",
    "import numpy as np\n",
    "import pymorphy2\n",
    "import nltk\n",
    "morph = pymorphy2.MorphAnalyzer()\n",
    "stopwords_ru = stopwords.words(\"russian\")"
   ]
  },
  {
   "cell_type": "markdown",
   "id": "0fb4c758",
   "metadata": {},
   "source": [
    "# 1 этап"
   ]
  },
  {
   "cell_type": "code",
   "execution_count": 5,
   "id": "9db3d151",
   "metadata": {},
   "outputs": [],
   "source": [
    "data = comment.Текст.values.tolist()"
   ]
  },
  {
   "cell_type": "markdown",
   "id": "5915fa69",
   "metadata": {},
   "source": [
    "# 2 этап"
   ]
  },
  {
   "cell_type": "code",
   "execution_count": 6,
   "id": "5d025380",
   "metadata": {},
   "outputs": [],
   "source": [
    "data = [re.sub('\\s+', ' ', sent) for sent in data] # убираем new line characters"
   ]
  },
  {
   "cell_type": "code",
   "execution_count": 7,
   "id": "6c5a1bdb",
   "metadata": {},
   "outputs": [],
   "source": [
    "data = [re.sub(\"\\d+\", ' ', sent) for sent in data] # убираем всё цифры"
   ]
  },
  {
   "cell_type": "code",
   "execution_count": 8,
   "id": "40541c27",
   "metadata": {},
   "outputs": [],
   "source": [
    "data = [re.sub(\"http[s]?://(?:[a-zA-Z]|[0-9]|[$-_@.&+]|[!*\\(\\),]|(?:%[0-9a-fA-F][0-9a-fA-F]))+\", ' ', sent) for sent in data] # убираем url"
   ]
  },
  {
   "cell_type": "markdown",
   "id": "e4896e77",
   "metadata": {},
   "source": [
    "# Левая ветка"
   ]
  },
  {
   "cell_type": "markdown",
   "id": "09623007",
   "metadata": {},
   "source": [
    "## 3 этап левая ветка"
   ]
  },
  {
   "cell_type": "code",
   "execution_count": 9,
   "id": "2a3ccdc9",
   "metadata": {},
   "outputs": [],
   "source": [
    "data_left = [re.sub(r'[^\\w\\s]','', sent) for sent in data] # убираем знаки препинания."
   ]
  },
  {
   "cell_type": "markdown",
   "id": "0b665224",
   "metadata": {},
   "source": [
    "## 4.1 этап левая ветка (нормализация)"
   ]
  },
  {
   "cell_type": "code",
   "execution_count": 10,
   "id": "a57938e3",
   "metadata": {},
   "outputs": [
    {
     "name": "stderr",
     "output_type": "stream",
     "text": [
      "100%|███████████████████████████████████████████████████████████████████████████| 21498/21498 [00:53<00:00, 403.99it/s]\n"
     ]
    }
   ],
   "source": [
    "data_left_norm = []  # с нормализацией\n",
    "for i in tqdm(range(len(data_left))):\n",
    "    data_left_norm.append(list(morph.parse(token)[0].normal_form for token in word_tokenize(data_left[i].lower().strip(), language=\"russian\")))"
   ]
  },
  {
   "cell_type": "markdown",
   "id": "3ff6725b",
   "metadata": {},
   "source": [
    "## 4.2 этап левая ветка"
   ]
  },
  {
   "cell_type": "code",
   "execution_count": 11,
   "id": "1f729c32",
   "metadata": {},
   "outputs": [
    {
     "name": "stderr",
     "output_type": "stream",
     "text": [
      "100%|█████████████████████████████████████████████████████████████████████████| 21498/21498 [00:01<00:00, 10964.82it/s]\n"
     ]
    }
   ],
   "source": [
    "data_left_d = []        # без нормализации\n",
    "for i in tqdm(range(len(data_left))):\n",
    "    data_left_d.append(word_tokenize(data_left[i].lower().strip(), language=\"russian\"))"
   ]
  },
  {
   "cell_type": "markdown",
   "id": "22a7e505",
   "metadata": {},
   "source": [
    "## 5.1 этап левая ветка (нормализация)"
   ]
  },
  {
   "cell_type": "code",
   "execution_count": 12,
   "id": "0d587130",
   "metadata": {},
   "outputs": [
    {
     "name": "stderr",
     "output_type": "stream",
     "text": [
      "100%|█████████████████████████████████████████████████████████████████████████| 21498/21498 [00:00<00:00, 53764.82it/s]\n"
     ]
    }
   ],
   "source": [
    "bi_gram_norm = []\n",
    "for sentence in tqdm(data_left_norm): # по постам\n",
    "    data_left_norm_stop = []\n",
    "    for word in sentence:                # по словам\n",
    "        if word in stopwords_ru:\n",
    "            continue\n",
    "        else:\n",
    "            data_left_norm_stop.append(word)\n",
    "    bi_gram_norm += list(nltk.bigrams(data_left_norm_stop))"
   ]
  },
  {
   "cell_type": "markdown",
   "id": "a5486629",
   "metadata": {},
   "source": [
    "## 5.2 этап левая ветка"
   ]
  },
  {
   "cell_type": "code",
   "execution_count": 13,
   "id": "f5531417",
   "metadata": {},
   "outputs": [
    {
     "name": "stderr",
     "output_type": "stream",
     "text": [
      "100%|█████████████████████████████████████████████████████████████████████████| 21498/21498 [00:00<00:00, 54415.04it/s]\n"
     ]
    }
   ],
   "source": [
    "bi_gram = []\n",
    "for sentence in tqdm(data_left_d): # по постам\n",
    "    data_left_norm_stop = []\n",
    "    for word in sentence:                # по словам\n",
    "        if word in stopwords_ru:\n",
    "            continue\n",
    "        else:\n",
    "            data_left_norm_stop.append(word)\n",
    "    bi_gram += list(nltk.bigrams(data_left_norm_stop))"
   ]
  },
  {
   "cell_type": "markdown",
   "id": "1be011cb",
   "metadata": {},
   "source": [
    "## 6.1 этап левая ветка (нормализация)"
   ]
  },
  {
   "cell_type": "code",
   "execution_count": 14,
   "id": "b66b6e9d",
   "metadata": {},
   "outputs": [
    {
     "data": {
      "text/plain": [
       "[(('бесплатный', 'обслуживание'), 594),\n",
       " (('обслуживание', 'навсегда'), 352),\n",
       " (('карта', 'тинькофф'), 266),\n",
       " (('дебетовый', 'карта'), 243),\n",
       " (('тинькофф', 'блэк'), 242),\n",
       " (('кредитный', 'карта'), 212),\n",
       " (('карта', 'tinkoff'), 179),\n",
       " (('ссылка', 'получить'), 172),\n",
       " (('подписка', 'тинькофф'), 161),\n",
       " (('получить', 'бонус'), 159)]"
      ]
     },
     "execution_count": 14,
     "metadata": {},
     "output_type": "execute_result"
    }
   ],
   "source": [
    "bgfd_norm = nltk.FreqDist(bi_gram_norm) # нормализованы\n",
    "bgfd_norm.most_common(10)"
   ]
  },
  {
   "cell_type": "markdown",
   "id": "05c696ec",
   "metadata": {},
   "source": [
    "## 6.2 этап левая ветка"
   ]
  },
  {
   "cell_type": "code",
   "execution_count": 15,
   "id": "6c472119",
   "metadata": {},
   "outputs": [
    {
     "data": {
      "text/plain": [
       "[(('бесплатное', 'обслуживание'), 295),\n",
       " (('моей', 'ссылке'), 283),\n",
       " (('бесплатным', 'обслуживанием'), 271),\n",
       " (('тинькофф', 'блэк'), 242),\n",
       " (('обслуживанием', 'навсегда'), 230),\n",
       " (('tinkoff', 'black'), 149),\n",
       " (('блэк', 'бесплатным'), 146),\n",
       " (('добрый', 'день'), 137),\n",
       " (('бесплатно', 'месяца'), 134),\n",
       " (('club', 'тинькофф'), 131)]"
      ]
     },
     "execution_count": 15,
     "metadata": {},
     "output_type": "execute_result"
    }
   ],
   "source": [
    "bgfd = nltk.FreqDist(bi_gram) # не нормализованы\n",
    "bgfd.most_common(10)"
   ]
  },
  {
   "cell_type": "markdown",
   "id": "1e5fada9",
   "metadata": {},
   "source": [
    "# Правая ветка"
   ]
  },
  {
   "cell_type": "markdown",
   "id": "499aea84",
   "metadata": {},
   "source": [
    "## 3 этап правая ветка"
   ]
  },
  {
   "cell_type": "code",
   "execution_count": 24,
   "id": "727ed2d1",
   "metadata": {},
   "outputs": [],
   "source": [
    "data_right = ' '.join(data)\n",
    "data_right = sent_tokenize(data_right, language=\"russian\")  # по предложениям"
   ]
  },
  {
   "cell_type": "code",
   "execution_count": 28,
   "id": "ec6de0de",
   "metadata": {},
   "outputs": [],
   "source": [
    "data_right = [re.sub(r'[^\\w\\s]','', sent) for sent in data_right] # убираем знаки препинания."
   ]
  },
  {
   "cell_type": "markdown",
   "id": "79593964",
   "metadata": {},
   "source": [
    "## 4.1 этап правая ветка (нормализация)"
   ]
  },
  {
   "cell_type": "code",
   "execution_count": 29,
   "id": "c2841307",
   "metadata": {},
   "outputs": [
    {
     "name": "stderr",
     "output_type": "stream",
     "text": [
      "100%|███████████████████████████████████████████████████████████████████████████| 22954/22954 [00:53<00:00, 431.90it/s]\n"
     ]
    }
   ],
   "source": [
    "data_right_norm = []  # с нормализацией\n",
    "for i in tqdm(range(len(data_right))):\n",
    "    data_right_norm.append(list(morph.parse(token)[0].normal_form for token in word_tokenize(data_right[i].lower().strip(), language=\"russian\")))"
   ]
  },
  {
   "cell_type": "markdown",
   "id": "a363046a",
   "metadata": {},
   "source": [
    "## 4.2 этап правая ветка"
   ]
  },
  {
   "cell_type": "code",
   "execution_count": 30,
   "id": "2f7a9e30",
   "metadata": {},
   "outputs": [
    {
     "name": "stderr",
     "output_type": "stream",
     "text": [
      "100%|█████████████████████████████████████████████████████████████████████████| 22954/22954 [00:02<00:00, 10852.04it/s]\n"
     ]
    }
   ],
   "source": [
    "data_right_d = []        # без нормализации\n",
    "for i in tqdm(range(len(data_right))):\n",
    "    data_right_d.append(word_tokenize(data_right[i].lower().strip(), language=\"russian\"))"
   ]
  },
  {
   "cell_type": "markdown",
   "id": "7fa0e351",
   "metadata": {},
   "source": [
    "## 5.1 этап правая ветка (нормализация)"
   ]
  },
  {
   "cell_type": "code",
   "execution_count": 31,
   "id": "3d7d8e17",
   "metadata": {},
   "outputs": [
    {
     "name": "stderr",
     "output_type": "stream",
     "text": [
      "100%|█████████████████████████████████████████████████████████████████████████| 22954/22954 [00:00<00:00, 56258.26it/s]\n"
     ]
    }
   ],
   "source": [
    "bi_gram_norm = []\n",
    "for sentence in tqdm(data_right_norm): # по предложениям\n",
    "    data_right_norm_stop = []\n",
    "    for word in sentence:                # по словам\n",
    "        if word in stopwords_ru:\n",
    "            continue\n",
    "        else:\n",
    "            data_right_norm_stop.append(word)\n",
    "    bi_gram_norm += list(nltk.bigrams(data_right_norm_stop))"
   ]
  },
  {
   "cell_type": "markdown",
   "id": "aa9f66ca",
   "metadata": {},
   "source": [
    "## 5.2 этап правая ветка"
   ]
  },
  {
   "cell_type": "code",
   "execution_count": 32,
   "id": "92c7a785",
   "metadata": {},
   "outputs": [
    {
     "name": "stderr",
     "output_type": "stream",
     "text": [
      "100%|█████████████████████████████████████████████████████████████████████████| 22954/22954 [00:00<00:00, 55839.04it/s]\n"
     ]
    }
   ],
   "source": [
    "bi_gram = []\n",
    "for sentence in tqdm(data_right_d): # по постам\n",
    "    data_right_norm_stop = []\n",
    "    for word in sentence:                # по словам\n",
    "        if word in stopwords_ru:\n",
    "            continue\n",
    "        else:\n",
    "            data_right_norm_stop.append(word)\n",
    "    bi_gram += list(nltk.bigrams(data_right_norm_stop))"
   ]
  },
  {
   "cell_type": "markdown",
   "id": "d47fe699",
   "metadata": {},
   "source": [
    "## 6.1 этап правая ветка (нормализация)"
   ]
  },
  {
   "cell_type": "code",
   "execution_count": 33,
   "id": "de05dc04",
   "metadata": {},
   "outputs": [
    {
     "data": {
      "text/plain": [
       "[(('бесплатный', 'обслуживание'), 594),\n",
       " (('обслуживание', 'навсегда'), 351),\n",
       " (('карта', 'тинькофф'), 268),\n",
       " (('дебетовый', 'карта'), 243),\n",
       " (('тинькофф', 'блэк'), 242),\n",
       " (('кредитный', 'карта'), 212),\n",
       " (('карта', 'tinkoff'), 179),\n",
       " (('ссылка', 'получить'), 172),\n",
       " (('подписка', 'тинькофф'), 161),\n",
       " (('получить', 'бонус'), 159)]"
      ]
     },
     "execution_count": 33,
     "metadata": {},
     "output_type": "execute_result"
    }
   ],
   "source": [
    "bgfd_norm = nltk.FreqDist(bi_gram_norm) # нормализованы\n",
    "bgfd_norm.most_common(10)"
   ]
  },
  {
   "cell_type": "markdown",
   "id": "e3d00399",
   "metadata": {},
   "source": [
    "## 6.2 этап правая ветка"
   ]
  },
  {
   "cell_type": "code",
   "execution_count": 34,
   "id": "6ac296fc",
   "metadata": {},
   "outputs": [
    {
     "data": {
      "text/plain": [
       "[(('бесплатное', 'обслуживание'), 295),\n",
       " (('моей', 'ссылке'), 283),\n",
       " (('бесплатным', 'обслуживанием'), 271),\n",
       " (('тинькофф', 'блэк'), 242),\n",
       " (('обслуживанием', 'навсегда'), 229),\n",
       " (('tinkoff', 'black'), 149),\n",
       " (('блэк', 'бесплатным'), 146),\n",
       " (('добрый', 'день'), 137),\n",
       " (('club', 'тинькофф'), 131),\n",
       " (('месяца', 'подписки'), 129)]"
      ]
     },
     "execution_count": 34,
     "metadata": {},
     "output_type": "execute_result"
    }
   ],
   "source": [
    "bgfd = nltk.FreqDist(bi_gram) # не нормализованы\n",
    "bgfd.most_common(10)"
   ]
  },
  {
   "cell_type": "code",
   "execution_count": null,
   "id": "266f4f05",
   "metadata": {},
   "outputs": [],
   "source": []
  }
 ],
 "metadata": {
  "kernelspec": {
   "display_name": "Python 3 (ipykernel)",
   "language": "python",
   "name": "python3"
  },
  "language_info": {
   "codemirror_mode": {
    "name": "ipython",
    "version": 3
   },
   "file_extension": ".py",
   "mimetype": "text/x-python",
   "name": "python",
   "nbconvert_exporter": "python",
   "pygments_lexer": "ipython3",
   "version": "3.10.6"
  }
 },
 "nbformat": 4,
 "nbformat_minor": 5
}
